{
 "cells": [
  {
   "cell_type": "code",
   "execution_count": 1,
   "id": "0ee94ac7-7e8c-4380-ac4e-0ad5fc60e5f0",
   "metadata": {},
   "outputs": [],
   "source": [
    "# p values experiments "
   ]
  },
  {
   "cell_type": "code",
   "execution_count": 2,
   "id": "7478533c-fd41-454c-a6d6-710614e650a7",
   "metadata": {},
   "outputs": [],
   "source": [
    "import numpy as np\n",
    "from scipy import stats"
   ]
  },
  {
   "cell_type": "code",
   "execution_count": 3,
   "id": "dc7973cf-0e3f-4e5c-9329-342b4a325138",
   "metadata": {},
   "outputs": [],
   "source": [
    "sample_data = np.array([78, 82, 88, 74, 80, 76, 70, 90, 85, 79,\n",
    "                        83, 81, 77, 84, 76, 92, 75, 77, 79, 81])\n",
    "population_mean = 75"
   ]
  },
  {
   "cell_type": "code",
   "execution_count": 4,
   "id": "7d468334-6a9a-49c4-be25-82349377dc67",
   "metadata": {},
   "outputs": [
    {
     "data": {
      "text/plain": [
       "np.float64(80.35)"
      ]
     },
     "execution_count": 4,
     "metadata": {},
     "output_type": "execute_result"
    }
   ],
   "source": [
    "sample_data.mean()"
   ]
  },
  {
   "cell_type": "code",
   "execution_count": 6,
   "id": "bff45e29-6a70-494d-8c44-baa719978950",
   "metadata": {},
   "outputs": [
    {
     "name": "stdout",
     "output_type": "stream",
     "text": [
      "T-statistic: 0.0\n",
      "P-value: 1.0\n",
      "Fail to reject the null hypothesis: The sample mean is not significantly different from the population mean.\n"
     ]
    }
   ],
   "source": [
    "#  p value if the population mean is equal to the sample means \n",
    "t_stat, p_value = stats.ttest_1samp(sample_data,sample_data.mean())\n",
    "\n",
    "print(f\"T-statistic: {t_stat}\")\n",
    "print(f\"P-value: {p_value}\")\n",
    "\n",
    "alpha = 0.05\n",
    "if p_value < alpha:\n",
    "    print(\"Reject the null hypothesis: The sample mean is significantly different from the population mean.\")\n",
    "else:\n",
    "    print(\"Fail to reject the null hypothesis: The sample mean is not significantly different from the population mean.\")\n"
   ]
  },
  {
   "cell_type": "markdown",
   "id": "5c140636-7993-47f6-8948-350b5acd45d3",
   "metadata": {},
   "source": [
    "# conclusions \n",
    "what is p value 1 means in one sample t tests ?\n",
    "ChatGPT said:\n",
    "ChatGPT\n",
    "In the context of a one-sample t-test, a p-value of 1 indicates that the sample mean is exactly equal to the population mean (under the null hypothesis), and there is no evidence against the null hypothesis.\n",
    "\n",
    "Breakdown of the Interpretation:\n",
    "The p-value is the probability of obtaining a sample mean at least as extreme as the one observed, given that the null hypothesis (that the sample mean equals the population mean) is true.\n",
    "\n",
    "A p-value of 1 means that the observed sample mean is perfectly consistent with the population mean under the null hypothesis. There is no evidence to suggest that the sample mean is significantly different from the population mean.\n",
    "\n",
    "How This Happens:\n",
    "In a one-sample t-test, the p-value is calculated based on the t-statistic, which depends on the difference between the sample mean and the population mean, the sample size, and the sample's variability. A p-value of 1 generally indicates that:\n",
    "\n",
    "The sample mean is very close or identical to the population mean: This results in a very small t-statistic, which leads to a p-value of 1.\n",
    "\n",
    "No deviation from the null hypothesis: The sample data provides no evidence that the population mean differs from the sample mean. Essentially, the sample mean is \"exactly what you would expect\" if the null hypothesis were true.\n",
    "\n",
    "Example to Illustrate:\n",
    "Suppose you are testing whether the average score of a sample of students is different from a known population mean of 50 (i.e., the null hypothesis is that the population mean is 50).\n",
    "\n",
    "Sample mean = 50\n",
    "Population mean = 50\n",
    "Sample size = 30\n",
    "Standard deviation of the sample = 5\n",
    "In this case, since the sample mean equals the population mean exactly, the t-statistic will be 0, and the p-value will be 1.\n",
    "\n",
    "Result:\n",
    "t-statistic = 0\n",
    "p-value = 1\n",
    "Interpretation:\n",
    "A p-value of 1 means that the sample mean is exactly in line with the population mean (no deviation).\n",
    "There is no evidence to reject the null hypothesis.\n",
    "You fail to reject the null hypothesis, and you would conclude that the sample data does not provide any evidence that the sample mean is different from the population mean.\n",
    "Key Points:\n",
    "p-value = 1: The sample mean is exactly equal to the population mean, and there is no evidence to suggest otherwise.\n",
    "No significant difference: The result does not support rejecting the null hypothesis.\n",
    "Interpretation: The data are perfectly consistent with the null hypothesis.\n",
    "In summary, a p-value of 1 in a one-sample t-test means that the observed data provides no evidence to suggest that the sample mean differs from the population mean."
   ]
  },
  {
   "cell_type": "markdown",
   "id": "27c8e55e-8892-4719-bdd9-165e3e15a68e",
   "metadata": {},
   "source": [
    "# experiment with the different samples sizes "
   ]
  },
  {
   "cell_type": "code",
   "execution_count": 8,
   "id": "88835f5b-a186-4a4a-833a-52fef99d47a2",
   "metadata": {},
   "outputs": [],
   "source": [
    "arr = np.random.randint(1, 101, size=50)"
   ]
  },
  {
   "cell_type": "code",
   "execution_count": 9,
   "id": "97a2a7ae-d46c-434d-a8b7-bb193fcac3ae",
   "metadata": {},
   "outputs": [
    {
     "data": {
      "text/plain": [
       "np.float64(46.56)"
      ]
     },
     "execution_count": 9,
     "metadata": {},
     "output_type": "execute_result"
    }
   ],
   "source": [
    "arr.mean()"
   ]
  },
  {
   "cell_type": "code",
   "execution_count": 10,
   "id": "c63237f2-508d-4543-94be-d175877a2846",
   "metadata": {},
   "outputs": [
    {
     "name": "stdout",
     "output_type": "stream",
     "text": [
      "T-statistic: 0.0\n",
      "P-value: 1.0\n",
      "Fail to reject the null hypothesis: The sample mean is not significantly different from the population mean.\n"
     ]
    }
   ],
   "source": [
    "t_stat, p_value = stats.ttest_1samp(arr,arr.mean())\n",
    "\n",
    "print(f\"T-statistic: {t_stat}\")\n",
    "print(f\"P-value: {p_value}\")\n",
    "\n",
    "alpha = 0.05\n",
    "if p_value < alpha:\n",
    "    print(\"Reject the null hypothesis: The sample mean is significantly different from the population mean.\")\n",
    "else:\n",
    "    print(\"Fail to reject the null hypothesis: The sample mean is not significantly different from the population mean.\")\n"
   ]
  },
  {
   "cell_type": "code",
   "execution_count": 15,
   "id": "648a3402-b348-4670-bce9-ece295802512",
   "metadata": {},
   "outputs": [
    {
     "name": "stdout",
     "output_type": "stream",
     "text": [
      "46.55\n",
      "T-statistic: 0.0\n",
      "P-value: 1.0\n",
      "Fail to reject the null hypothesis: The sample mean is not significantly different from the population mean.\n"
     ]
    }
   ],
   "source": [
    " # experiment with the small sample sizes \n",
    "arr = np.random.randint(1, 101, size=40)\n",
    "print(arr.mean())\n",
    "t_stat, p_value = stats.ttest_1samp(arr,arr.mean())\n",
    "\n",
    "print(f\"T-statistic: {t_stat}\")\n",
    "print(f\"P-value: {p_value}\")\n",
    "\n",
    "alpha = 0.05\n",
    "if p_value < alpha:\n",
    "    print(\"Reject the null hypothesis: The sample mean is significantly different from the population mean.\")\n",
    "else:\n",
    "    print(\"Fail to reject the null hypothesis: The sample mean is not significantly different from the population mean.\")\n"
   ]
  },
  {
   "cell_type": "code",
   "execution_count": 16,
   "id": "73bd2d96-c3af-4a6d-9b17-116d6b08d78f",
   "metadata": {},
   "outputs": [
    {
     "name": "stdout",
     "output_type": "stream",
     "text": [
      "41.3\n"
     ]
    }
   ],
   "source": [
    "arr = np.random.randint(1, 101, size=40)\n",
    "print(arr.mean())"
   ]
  },
  {
   "cell_type": "code",
   "execution_count": 25,
   "id": "7ae8adc9-b131-4616-accf-6cc4a887ad0f",
   "metadata": {},
   "outputs": [
    {
     "name": "stdout",
     "output_type": "stream",
     "text": [
      "T-statistic: 0.19283102342009778\n",
      "P-value: 0.8480919944217677\n",
      "Fail to reject the null hypothesis: The sample mean is not significantly different from the population mean.\n"
     ]
    }
   ],
   "source": [
    "t_stat, p_value = stats.ttest_1samp(arr,40.5)\n",
    "\n",
    "print(f\"T-statistic: {t_stat}\")\n",
    "print(f\"P-value: {p_value}\")\n",
    "\n",
    "alpha = 0.05\n",
    "if p_value < alpha:\n",
    "    print(\"Reject the null hypothesis: The sample mean is significantly different from the population mean.\")\n",
    "else:\n",
    "    print(\"Fail to reject the null hypothesis: The sample mean is not significantly different from the population mean.\")"
   ]
  },
  {
   "cell_type": "code",
   "execution_count": 26,
   "id": "d1c0884c-d0da-4442-b1c1-a4b346465994",
   "metadata": {},
   "outputs": [],
   "source": [
    "# conclusions \n",
    "# more p value is greater(between to 1) there is strong evidence the population mean and sample mean is significant "
   ]
  },
  {
   "cell_type": "code",
   "execution_count": 29,
   "id": "f35834df-be6c-4558-b4d1-f93f68e53b1f",
   "metadata": {},
   "outputs": [],
   "source": [
    "# determine the p value experiments \n",
    "import pandas as pd\n",
    "means=np.arange(1,100)\n",
    "t_val=[]\n",
    "p_val=[]\n",
    "for i in means:\n",
    "    t_stat, p_value = stats.ttest_1samp(arr,i)\n",
    "    t_val.append(t_stat)\n",
    "    p_val.append(p_value)\n",
    "df=pd.DataFrame({'means':means,'t_val':t_val,'p_val':p_val})"
   ]
  },
  {
   "cell_type": "code",
   "execution_count": 33,
   "id": "fa7e832c-bd78-4b24-84cc-9dd4881f40ee",
   "metadata": {},
   "outputs": [
    {
     "data": {
      "text/html": [
       "<div>\n",
       "<style scoped>\n",
       "    .dataframe tbody tr th:only-of-type {\n",
       "        vertical-align: middle;\n",
       "    }\n",
       "\n",
       "    .dataframe tbody tr th {\n",
       "        vertical-align: top;\n",
       "    }\n",
       "\n",
       "    .dataframe thead th {\n",
       "        text-align: right;\n",
       "    }\n",
       "</style>\n",
       "<table border=\"1\" class=\"dataframe\">\n",
       "  <thead>\n",
       "    <tr style=\"text-align: right;\">\n",
       "      <th></th>\n",
       "      <th>means</th>\n",
       "      <th>t_val</th>\n",
       "      <th>p_val</th>\n",
       "    </tr>\n",
       "  </thead>\n",
       "  <tbody>\n",
       "    <tr>\n",
       "      <th>32</th>\n",
       "      <td>33</td>\n",
       "      <td>2.000622</td>\n",
       "      <td>0.052429</td>\n",
       "    </tr>\n",
       "    <tr>\n",
       "      <th>33</th>\n",
       "      <td>34</td>\n",
       "      <td>1.759583</td>\n",
       "      <td>0.086322</td>\n",
       "    </tr>\n",
       "    <tr>\n",
       "      <th>34</th>\n",
       "      <td>35</td>\n",
       "      <td>1.518544</td>\n",
       "      <td>0.136943</td>\n",
       "    </tr>\n",
       "    <tr>\n",
       "      <th>35</th>\n",
       "      <td>36</td>\n",
       "      <td>1.277506</td>\n",
       "      <td>0.208977</td>\n",
       "    </tr>\n",
       "    <tr>\n",
       "      <th>36</th>\n",
       "      <td>37</td>\n",
       "      <td>1.036467</td>\n",
       "      <td>0.306368</td>\n",
       "    </tr>\n",
       "    <tr>\n",
       "      <th>37</th>\n",
       "      <td>38</td>\n",
       "      <td>0.795428</td>\n",
       "      <td>0.431179</td>\n",
       "    </tr>\n",
       "    <tr>\n",
       "      <th>38</th>\n",
       "      <td>39</td>\n",
       "      <td>0.554389</td>\n",
       "      <td>0.582478</td>\n",
       "    </tr>\n",
       "    <tr>\n",
       "      <th>39</th>\n",
       "      <td>40</td>\n",
       "      <td>0.313350</td>\n",
       "      <td>0.755684</td>\n",
       "    </tr>\n",
       "    <tr>\n",
       "      <th>40</th>\n",
       "      <td>41</td>\n",
       "      <td>0.072312</td>\n",
       "      <td>0.942723</td>\n",
       "    </tr>\n",
       "    <tr>\n",
       "      <th>41</th>\n",
       "      <td>42</td>\n",
       "      <td>-0.168727</td>\n",
       "      <td>0.866883</td>\n",
       "    </tr>\n",
       "    <tr>\n",
       "      <th>42</th>\n",
       "      <td>43</td>\n",
       "      <td>-0.409766</td>\n",
       "      <td>0.684220</td>\n",
       "    </tr>\n",
       "    <tr>\n",
       "      <th>43</th>\n",
       "      <td>44</td>\n",
       "      <td>-0.650805</td>\n",
       "      <td>0.518989</td>\n",
       "    </tr>\n",
       "    <tr>\n",
       "      <th>44</th>\n",
       "      <td>45</td>\n",
       "      <td>-0.891843</td>\n",
       "      <td>0.377947</td>\n",
       "    </tr>\n",
       "    <tr>\n",
       "      <th>45</th>\n",
       "      <td>46</td>\n",
       "      <td>-1.132882</td>\n",
       "      <td>0.264181</td>\n",
       "    </tr>\n",
       "    <tr>\n",
       "      <th>46</th>\n",
       "      <td>47</td>\n",
       "      <td>-1.373921</td>\n",
       "      <td>0.177312</td>\n",
       "    </tr>\n",
       "    <tr>\n",
       "      <th>47</th>\n",
       "      <td>48</td>\n",
       "      <td>-1.614960</td>\n",
       "      <td>0.114382</td>\n",
       "    </tr>\n",
       "    <tr>\n",
       "      <th>48</th>\n",
       "      <td>49</td>\n",
       "      <td>-1.855999</td>\n",
       "      <td>0.071021</td>\n",
       "    </tr>\n",
       "  </tbody>\n",
       "</table>\n",
       "</div>"
      ],
      "text/plain": [
       "    means     t_val     p_val\n",
       "32     33  2.000622  0.052429\n",
       "33     34  1.759583  0.086322\n",
       "34     35  1.518544  0.136943\n",
       "35     36  1.277506  0.208977\n",
       "36     37  1.036467  0.306368\n",
       "37     38  0.795428  0.431179\n",
       "38     39  0.554389  0.582478\n",
       "39     40  0.313350  0.755684\n",
       "40     41  0.072312  0.942723\n",
       "41     42 -0.168727  0.866883\n",
       "42     43 -0.409766  0.684220\n",
       "43     44 -0.650805  0.518989\n",
       "44     45 -0.891843  0.377947\n",
       "45     46 -1.132882  0.264181\n",
       "46     47 -1.373921  0.177312\n",
       "47     48 -1.614960  0.114382\n",
       "48     49 -1.855999  0.071021"
      ]
     },
     "execution_count": 33,
     "metadata": {},
     "output_type": "execute_result"
    }
   ],
   "source": [
    "df[df['p_val']>0.05]"
   ]
  },
  {
   "cell_type": "code",
   "execution_count": 41,
   "id": "2a487100-cba4-4683-9147-daeb6edbb61b",
   "metadata": {},
   "outputs": [
    {
     "data": {
      "image/png": "[encoded data removed]",
      "text/plain": [
       "<Figure size 640x480 with 1 Axes>"
      ]
     },
     "metadata": {},
     "output_type": "display_data"
    }
   ],
   "source": [
    "# line plot between the p value and the means \n",
    "plt.plot(df['means'], df['p_val'], color='blue')\n",
    "plt.axhline(y=0.05, color='r', linestyle='--')\n",
    "plt.axvline(x=arr.mean(),color='red',linestyle='--')\n",
    "plt.show()"
   ]
  },
  {
   "cell_type": "markdown",
   "id": "50dd20e8-6abc-44e6-96d8-9faabc353fa8",
   "metadata": {},
   "source": [
    "Scenario 1: Product Quality Control (Manufacturing)\n",
    "Context: A company produces a certain product, and the population mean weight of the product is 100 grams. You take a sample of 30 products and find that the sample mean is 99.5 grams.\n",
    "\n",
    "T-statistic and P-value: After running a one-sample t-test, you obtain a t-statistic of 0.1928 and a p-value of 0.8481.\n",
    "\n",
    "Interpretation: The p-value is quite large, meaning there is no significant difference between the sample mean (99.5 grams) and the population mean (100 grams). This suggests that the weights of the products in your sample are consistent with the expected population mean.\n",
    "\n",
    "Decision: Since the sample does not show a significant deviation from the population mean, you may decide that no corrective action is necessary. The manufacturing process appears to be functioning normally and within acceptable limits.\n",
    "\n",
    "Next Steps: The company could continue monitoring the production process, but there is no immediate need for adjustments, as the weight of the products is not significantly different from the expected value.\n",
    "\n"
   ]
  },
  {
   "cell_type": "code",
   "execution_count": null,
   "id": "b209c5c7-73ea-4041-a45b-f095254d5834",
   "metadata": {},
   "outputs": [],
   "source": []
  }
 ],
 "metadata": {
  "kernelspec": {
   "display_name": "Python 3 (ipykernel)",
   "language": "python",
   "name": "python3"
  },
  "language_info": {
   "codemirror_mode": {
    "name": "ipython",
    "version": 3
   },
   "file_extension": ".py",
   "mimetype": "text/x-python",
   "name": "python",
   "nbconvert_exporter": "python",
   "pygments_lexer": "ipython3",
   "version": "3.12.6"
  }
 },
 "nbformat": 4,
 "nbformat_minor": 5
}
